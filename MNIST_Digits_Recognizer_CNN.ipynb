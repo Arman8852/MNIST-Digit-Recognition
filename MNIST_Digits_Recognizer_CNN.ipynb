{
  "nbformat": 4,
  "nbformat_minor": 0,
  "metadata": {
    "colab": {
      "name": "MNIST_Digits_Recognizer_CNN.ipynb",
      "provenance": [],
      "collapsed_sections": []
    },
    "kernelspec": {
      "name": "python3",
      "display_name": "Python 3"
    }
  },
  "cells": [
    {
      "cell_type": "markdown",
      "source": [
        "Import the Libraries"
      ],
      "metadata": {
        "id": "xNIzQ8FBSgZ8"
      }
    },
    {
      "cell_type": "code",
      "source": [
        "import tensorflow as tf\n",
        "from tensorflow import keras\n",
        "import pandas as pd\n",
        "import numpy as np\n",
        "import seaborn as sns\n",
        "import matplotlib.pyplot as plt\n",
        "from google.colab import drive\n",
        "from sklearn.model_selection import train_test_split"
      ],
      "metadata": {
        "id": "tYTkpTX2MnJu"
      },
      "execution_count": 2,
      "outputs": []
    },
    {
      "cell_type": "code",
      "source": [
        "from google.colab import files\n",
        "drive.mount('/content/drive')"
      ],
      "metadata": {
        "colab": {
          "base_uri": "https://localhost:8080/"
        },
        "id": "dqFqh4z_MxEG",
        "outputId": "7fca1f79-1b69-4d5f-cdae-f5243a01baf0"
      },
      "execution_count": 3,
      "outputs": [
        {
          "output_type": "stream",
          "name": "stdout",
          "text": [
            "Mounted at /content/drive\n"
          ]
        }
      ]
    },
    {
      "cell_type": "markdown",
      "source": [
        "Import the CSV Files"
      ],
      "metadata": {
        "id": "8konEQcwSmnq"
      }
    },
    {
      "cell_type": "code",
      "source": [
        "train_csv = r'/content/drive/MyDrive/Dataset/train.csv'\n",
        "test_csv = r'/content/drive/MyDrive/Dataset/test.csv'\n",
        "train = pd.read_csv(train_csv)\n",
        "test = pd.read_csv(test_csv)"
      ],
      "metadata": {
        "id": "nncbh90BNInH"
      },
      "execution_count": 4,
      "outputs": []
    },
    {
      "cell_type": "markdown",
      "source": [
        "Show the Count of Each Number in Train Dataset"
      ],
      "metadata": {
        "id": "7ZKN6x1RSsdC"
      }
    },
    {
      "cell_type": "code",
      "source": [
        "sns.countplot(train['label'])\n",
        "train['label'].value_counts()"
      ],
      "metadata": {
        "colab": {
          "base_uri": "https://localhost:8080/",
          "height": 525
        },
        "id": "p6OuCxP_NRCt",
        "outputId": "2190ad0e-3b42-4ee5-bef7-ef9c27b45e55"
      },
      "execution_count": 5,
      "outputs": [
        {
          "output_type": "stream",
          "name": "stderr",
          "text": [
            "/usr/local/lib/python3.7/dist-packages/seaborn/_decorators.py:43: FutureWarning: Pass the following variable as a keyword arg: x. From version 0.12, the only valid positional argument will be `data`, and passing other arguments without an explicit keyword will result in an error or misinterpretation.\n",
            "  FutureWarning\n"
          ]
        },
        {
          "output_type": "execute_result",
          "data": {
            "text/plain": [
              "1    4684\n",
              "7    4401\n",
              "3    4351\n",
              "9    4188\n",
              "2    4177\n",
              "6    4137\n",
              "0    4132\n",
              "4    4072\n",
              "8    4063\n",
              "5    3795\n",
              "Name: label, dtype: int64"
            ]
          },
          "metadata": {},
          "execution_count": 5
        },
        {
          "output_type": "display_data",
          "data": {
            "text/plain": [
              "<Figure size 432x288 with 1 Axes>"
            ],
            "image/png": "[encoded data removed]"
          },
          "metadata": {
            "needs_background": "light"
          }
        }
      ]
    },
    {
      "cell_type": "markdown",
      "source": [
        "Convert the Numbers into Binary Vectors using One-Hot Encoding"
      ],
      "metadata": {
        "id": "ta51MRKETf5q"
      }
    },
    {
      "cell_type": "code",
      "source": [
        "orig_labels = train['label']\n",
        "y = tf.keras.utils.to_categorical(orig_labels) # one-hot encoding\n",
        "train.drop('label', axis=1, inplace=True)"
      ],
      "metadata": {
        "id": "M5xsWSPfNeuV"
      },
      "execution_count": 6,
      "outputs": []
    },
    {
      "cell_type": "markdown",
      "source": [
        "Display a Digit from the Train Dataset"
      ],
      "metadata": {
        "id": "uLy6y7nAT7uD"
      }
    },
    {
      "cell_type": "code",
      "source": [
        "# display a number.\n",
        "plt.figure(figsize=(7,7))\n",
        "idx = 1\n",
        "\n",
        "grid_data = train.iloc[idx].to_numpy().reshape(28,28)\n",
        "plt.imshow(grid_data, interpolation = \"none\", cmap = \"gray\")\n",
        "plt.show()\n",
        "\n",
        "print(orig_labels[idx])"
      ],
      "metadata": {
        "colab": {
          "base_uri": "https://localhost:8080/",
          "height": 445
        },
        "id": "IcfZv64DZNNk",
        "outputId": "d4613f42-3b83-486a-ebe3-3661ed520756"
      },
      "execution_count": 7,
      "outputs": [
        {
          "output_type": "display_data",
          "data": {
            "text/plain": [
              "<Figure size 504x504 with 1 Axes>"
            ],
            "image/png": "[encoded data removed]"
          },
          "metadata": {
            "needs_background": "light"
          }
        },
        {
          "output_type": "stream",
          "name": "stdout",
          "text": [
            "0\n"
          ]
        }
      ]
    },
    {
      "cell_type": "markdown",
      "source": [
        "Spliting the Datatset into Train and Test Datasets"
      ],
      "metadata": {
        "id": "ZBLj309cUHcd"
      }
    },
    {
      "cell_type": "code",
      "source": [
        "X_train, X_val, Y_train, Y_val = train_test_split(train, y, test_size = 0.1, random_state=2)"
      ],
      "metadata": {
        "id": "1kbjFHcfOg7u"
      },
      "execution_count": 8,
      "outputs": []
    },
    {
      "cell_type": "markdown",
      "source": [
        "Reshaping the Training Dataset"
      ],
      "metadata": {
        "id": "nB_ty24uUOri"
      }
    },
    {
      "cell_type": "code",
      "source": [
        "# Reshape the Training Dataset to be an Array of Shape (training_examples_number, pixel_width, pixel_height, channel_number) \n",
        "X_train = np.array(X_train).reshape(-1, 28, 28,1)\n",
        "X_val = np.array(X_val).reshape(-1, 28, 28,1)"
      ],
      "metadata": {
        "id": "1SchXtkPCePN"
      },
      "execution_count": 9,
      "outputs": []
    },
    {
      "cell_type": "markdown",
      "source": [
        "Flattening the Datasets"
      ],
      "metadata": {
        "id": "RuQ0iwcGU29x"
      }
    },
    {
      "cell_type": "code",
      "source": [
        "X_train = X_train/255.0\n",
        "X_val = X_val/255.0"
      ],
      "metadata": {
        "id": "Tv4rJ0OMCfAV"
      },
      "execution_count": 10,
      "outputs": []
    },
    {
      "cell_type": "markdown",
      "source": [
        "Augmenting the Training Dataset"
      ],
      "metadata": {
        "id": "ifUHVd0EVP7w"
      }
    },
    {
      "cell_type": "code",
      "source": [
        "from scipy.ndimage.interpolation import shift\n",
        "def shift_image(image, dx, dy,dz):\n",
        "    shifted_image = shift(image, [dy, dx,dz], cval=0, mode=\"constant\")\n",
        "    return shifted_image"
      ],
      "metadata": {
        "id": "k1TRkxRjCPHE"
      },
      "execution_count": 11,
      "outputs": []
    },
    {
      "cell_type": "code",
      "source": [
        "X_train_augmented = [image for image in X_train]\n",
        "Y_train_augmented = [image for image in Y_train]\n",
        "\n",
        "for dx, dy,dz in ((1,0,0), (-1,0,0), (0,1,0), (0,-1,0)):\n",
        "     for image, label in zip(X_train, Y_train):\n",
        "             X_train_augmented.append(shift_image(image, dx, dy,dz))\n",
        "             Y_train_augmented.append(label)"
      ],
      "metadata": {
        "id": "7xF0rh5bCXW0"
      },
      "execution_count": 12,
      "outputs": []
    },
    {
      "cell_type": "code",
      "source": [
        "shuffle_idx = np.random.permutation(len(X_train_augmented))\n",
        "X_train_augmented = np.array(X_train_augmented)[shuffle_idx]\n",
        "Y_train_augmented = np.array(Y_train_augmented)[shuffle_idx]\n",
        "X_train_augmented.shape"
      ],
      "metadata": {
        "id": "EQH8obzcE8Ik",
        "colab": {
          "base_uri": "https://localhost:8080/"
        },
        "outputId": "2cd766e9-b08e-4831-9055-d0c322560279"
      },
      "execution_count": 13,
      "outputs": [
        {
          "output_type": "execute_result",
          "data": {
            "text/plain": [
              "(189000, 28, 28, 1)"
            ]
          },
          "metadata": {},
          "execution_count": 13
        }
      ]
    },
    {
      "cell_type": "markdown",
      "source": [
        "Traininig the CNN Model "
      ],
      "metadata": {
        "id": "OcU_0CWxVzbj"
      }
    },
    {
      "cell_type": "code",
      "source": [
        "checkpoint_path = \"logs/checkpoints/\""
      ],
      "metadata": {
        "id": "lPit_1u4UAt0"
      },
      "execution_count": 14,
      "outputs": []
    },
    {
      "cell_type": "code",
      "source": [
        "model = tf.keras.models.Sequential([\n",
        "    tf.keras.layers.Conv2D(64, (3, 3), input_shape=(28, 28,1), activation='relu', padding=\"SAME\"),\n",
        "    tf.keras.layers.MaxPooling2D(),\n",
        "    tf.keras.layers.Conv2D(64, (3, 3), activation=tf.nn.relu, padding=\"SAME\"),\n",
        "    tf.keras.layers.MaxPooling2D(),\n",
        "    tf.keras.layers.Dropout(0.5),\n",
        "    tf.keras.layers.Conv2D(128, (3, 3), activation=tf.nn.relu, padding=\"SAME\"),\n",
        "    tf.keras.layers.MaxPooling2D(),\n",
        "    tf.keras.layers.BatchNormalization(),\n",
        "    tf.keras.layers.Conv2D(128, (3, 3), activation=tf.nn.relu, padding=\"SAME\"),\n",
        "    tf.keras.layers.MaxPooling2D(),\n",
        "    tf.keras.layers.BatchNormalization(),\n",
        "    tf.keras.layers.Flatten(),\n",
        "    tf.keras.layers.Dense(128, activation=tf.nn.relu),\n",
        "    tf.keras.layers.Dropout(0.5),\n",
        "    tf.keras.layers.Dense(10, activation=\"softmax\")\n",
        "])\n",
        "\n",
        "epochs=15\n",
        "\n",
        "callbacks = [\n",
        "    tf.keras.callbacks.ModelCheckpoint(filepath=checkpoint_path,\n",
        "                                        monitor=\"accuracy\",\n",
        "                                        save_best_only=True,\n",
        "                                        save_weights_only=True),\n",
        "    tf.keras.callbacks.EarlyStopping(monitor=\"accuracy\", patience=15)\n",
        "]\n",
        "\n",
        "model.compile(optimizer=\"adam\", loss=\"categorical_crossentropy\", metrics=[\"accuracy\"])\n",
        "history = model.fit(X_train_augmented, Y_train_augmented, epochs=epochs, callbacks=callbacks, batch_size=64)"
      ],
      "metadata": {
        "colab": {
          "base_uri": "https://localhost:8080/"
        },
        "id": "mPiwK-KcOtcm",
        "outputId": "8b836995-2733-477f-b3e4-db2054745417"
      },
      "execution_count": 15,
      "outputs": [
        {
          "output_type": "stream",
          "name": "stdout",
          "text": [
            "Epoch 1/15\n",
            "2954/2954 [==============================] - 499s 169ms/step - loss: 0.1429 - accuracy: 0.9560\n",
            "Epoch 2/15\n",
            "2954/2954 [==============================] - 493s 167ms/step - loss: 0.0533 - accuracy: 0.9843\n",
            "Epoch 3/15\n",
            "2954/2954 [==============================] - 494s 167ms/step - loss: 0.0414 - accuracy: 0.9876\n",
            "Epoch 4/15\n",
            "2954/2954 [==============================] - 493s 167ms/step - loss: 0.0349 - accuracy: 0.9896\n",
            "Epoch 5/15\n",
            "2954/2954 [==============================] - 492s 167ms/step - loss: 0.0293 - accuracy: 0.9914\n",
            "Epoch 6/15\n",
            "2954/2954 [==============================] - 492s 167ms/step - loss: 0.0262 - accuracy: 0.9920\n",
            "Epoch 7/15\n",
            "2954/2954 [==============================] - 492s 167ms/step - loss: 0.0228 - accuracy: 0.9930\n",
            "Epoch 8/15\n",
            "2954/2954 [==============================] - 493s 167ms/step - loss: 0.0214 - accuracy: 0.9933\n",
            "Epoch 9/15\n",
            "2954/2954 [==============================] - 493s 167ms/step - loss: 0.0189 - accuracy: 0.9941\n",
            "Epoch 10/15\n",
            "2954/2954 [==============================] - 502s 170ms/step - loss: 0.0176 - accuracy: 0.9947\n",
            "Epoch 11/15\n",
            "2954/2954 [==============================] - 493s 167ms/step - loss: 0.0160 - accuracy: 0.9950\n",
            "Epoch 12/15\n",
            "2954/2954 [==============================] - 493s 167ms/step - loss: 0.0155 - accuracy: 0.9952\n",
            "Epoch 13/15\n",
            "2954/2954 [==============================] - 493s 167ms/step - loss: 0.0152 - accuracy: 0.9951\n",
            "Epoch 14/15\n",
            "2954/2954 [==============================] - 493s 167ms/step - loss: 0.0141 - accuracy: 0.9956\n",
            "Epoch 15/15\n",
            "2954/2954 [==============================] - 493s 167ms/step - loss: 0.0135 - accuracy: 0.9958\n"
          ]
        }
      ]
    },
    {
      "cell_type": "markdown",
      "source": [
        "Confusion Matrix"
      ],
      "metadata": {
        "id": "kZfiQJYbV_QB"
      }
    },
    {
      "cell_type": "code",
      "source": [
        "from sklearn.metrics import confusion_matrix\n",
        "Y_pred = model.predict(X_val)\n",
        "# Convert predictions classes to one hot vectors \n",
        "Y_pred_classes = np.argmax(Y_pred,axis = 1) \n",
        "# Convert validation observations to one hot vectors\n",
        "Y_true = np.argmax(Y_val,axis = 1) \n",
        "# compute the confusion matrix\n",
        "confusion_mtx = confusion_matrix(Y_true, Y_pred_classes) \n",
        "# plot the confusion matrix\n",
        "#plot_confusion_matrix(confusion_mtx, classes = range(10)) \n",
        "confusion_mtx"
      ],
      "metadata": {
        "id": "97cMk8z8WYZ0",
        "colab": {
          "base_uri": "https://localhost:8080/"
        },
        "outputId": "bf3d9f32-5a38-4b53-bd83-f6c4cf1b168d"
      },
      "execution_count": 16,
      "outputs": [
        {
          "output_type": "execute_result",
          "data": {
            "text/plain": [
              "array([[411,   0,   0,   0,   0,   0,   0,   0,   0,   0],\n",
              "       [  0, 485,   0,   0,   0,   0,   0,   0,   0,   0],\n",
              "       [  0,   0, 403,   0,   0,   0,   0,   0,   0,   0],\n",
              "       [  0,   0,   0, 416,   0,   0,   0,   0,   2,   0],\n",
              "       [  0,   1,   2,   0, 456,   0,   1,   1,   0,   0],\n",
              "       [  0,   0,   0,   1,   0, 369,   1,   0,   1,   0],\n",
              "       [  0,   2,   0,   0,   0,   0, 410,   0,   1,   0],\n",
              "       [  0,   1,   0,   0,   0,   0,   0, 445,   0,   0],\n",
              "       [  0,   1,   0,   0,   0,   1,   0,   0, 379,   1],\n",
              "       [  1,   0,   0,   0,   2,   0,   0,   2,   0, 404]])"
            ]
          },
          "metadata": {},
          "execution_count": 16
        }
      ]
    },
    {
      "cell_type": "markdown",
      "source": [
        "Predicting a Random Digit from the Test Dataset"
      ],
      "metadata": {
        "id": "3ImMnU3nWA35"
      }
    },
    {
      "cell_type": "code",
      "source": [
        "import random\n",
        "\n",
        "index = random.randint(0, test.shape[0])\n",
        "\n",
        "plt.imshow(test.iloc[index].to_numpy().reshape(28,28))\n",
        "\n",
        "test_arr = np.array(test.iloc[index]).reshape(-1, 28, 28, 1)\n",
        "\n",
        "test_img = test_arr/255.0\n",
        "\n",
        "prediction = model.predict(test_img).argmax(axis=1)\n",
        "print(f'The label Predicted is \"{prediction[0]}\"')"
      ],
      "metadata": {
        "id": "Ce_GiRvsvfUL",
        "colab": {
          "base_uri": "https://localhost:8080/",
          "height": 282
        },
        "outputId": "217325bf-8a3f-45f7-dc51-c9cbdd9533dd"
      },
      "execution_count": 17,
      "outputs": [
        {
          "output_type": "stream",
          "name": "stdout",
          "text": [
            "The label Predicted is \"0\"\n"
          ]
        },
        {
          "output_type": "display_data",
          "data": {
            "text/plain": [
              "<Figure size 432x288 with 1 Axes>"
            ],
            "image/png": "[encoded data removed]"
          },
          "metadata": {
            "needs_background": "light"
          }
        }
      ]
    },
    {
      "cell_type": "markdown",
      "source": [
        "Submitting the Result"
      ],
      "metadata": {
        "id": "tLkvyDZGWLyM"
      }
    },
    {
      "cell_type": "code",
      "source": [
        "X_test = np.array(test).reshape(-1, 28, 28,1)\n",
        "\n",
        "\n",
        "results = model.predict(X_test)\n",
        "\n",
        "# select the indix with the maximum probability\n",
        "results = np.argmax(results,axis = 1)\n",
        "\n",
        "results = pd.Series(results,name=\"Label\")"
      ],
      "metadata": {
        "id": "qMhTLW_0v2Iz"
      },
      "execution_count": 19,
      "outputs": []
    },
    {
      "cell_type": "code",
      "source": [
        "from google.colab import files\n",
        "\n",
        "submission = pd.concat([pd.Series(range(1,28001),name = \"ImageId\"),results],axis = 1)\n",
        "\n",
        "submission.to_csv(\"digits_cnn.csv\",index=False)\n",
        "\n",
        "files.download('digits_cnn.csv') "
      ],
      "metadata": {
        "id": "YH67InI1v_sC",
        "colab": {
          "base_uri": "https://localhost:8080/",
          "height": 17
        },
        "outputId": "bcb3e244-6057-45f2-96ff-0e695f426741"
      },
      "execution_count": 22,
      "outputs": [
        {
          "output_type": "display_data",
          "data": {
            "text/plain": [
              "<IPython.core.display.Javascript object>"
            ],
            "application/javascript": [
              "\n",
              "    async function download(id, filename, size) {\n",
              "      if (!google.colab.kernel.accessAllowed) {\n",
              "        return;\n",
              "      }\n",
              "      const div = document.createElement('div');\n",
              "      const label = document.createElement('label');\n",
              "      label.textContent = `Downloading \"${filename}\": `;\n",
              "      div.appendChild(label);\n",
              "      const progress = document.createElement('progress');\n",
              "      progress.max = size;\n",
              "      div.appendChild(progress);\n",
              "      document.body.appendChild(div);\n",
              "\n",
              "      const buffers = [];\n",
              "      let downloaded = 0;\n",
              "\n",
              "      const channel = await google.colab.kernel.comms.open(id);\n",
              "      // Send a message to notify the kernel that we're ready.\n",
              "      channel.send({})\n",
              "\n",
              "      for await (const message of channel.messages) {\n",
              "        // Send a message to notify the kernel that we're ready.\n",
              "        channel.send({})\n",
              "        if (message.buffers) {\n",
              "          for (const buffer of message.buffers) {\n",
              "            buffers.push(buffer);\n",
              "            downloaded += buffer.byteLength;\n",
              "            progress.value = downloaded;\n",
              "          }\n",
              "        }\n",
              "      }\n",
              "      const blob = new Blob(buffers, {type: 'application/binary'});\n",
              "      const a = document.createElement('a');\n",
              "      a.href = window.URL.createObjectURL(blob);\n",
              "      a.download = filename;\n",
              "      div.appendChild(a);\n",
              "      a.click();\n",
              "      div.remove();\n",
              "    }\n",
              "  "
            ]
          },
          "metadata": {}
        },
        {
          "output_type": "display_data",
          "data": {
            "text/plain": [
              "<IPython.core.display.Javascript object>"
            ],
            "application/javascript": [
              "download(\"download_7aa42ed9-ff8e-40a5-9943-4d747ae802ac\", \"digits_cnn.csv\", 212908)"
            ]
          },
          "metadata": {}
        }
      ]
    }
  ]
}